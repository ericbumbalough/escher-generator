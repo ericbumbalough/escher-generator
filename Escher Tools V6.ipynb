{
 "cells": [
  {
   "cell_type": "markdown",
   "metadata": {},
   "source": [
    "#Escher Tools\n",
    "Tools for creating Escher transformations.\n",
    "##Version History\n",
    "###V6\n",
    "- Changed to vertical words.\n",
    "\n",
    "###V5\n",
    "- Added `spacepine`, `locatepine`, and `looppine` to support transforming to and from spaces in words.\n",
    "\n",
    "### V4\n",
    "- Updated `strtrans` to use one letter (specified in arguments) to determine letter height and width.\n",
    "\n",
    "###V3\n",
    "- Removed `chartrans` and placed functionality in `strtrans`.\n",
    "- Updated `strtrans` to only 1 file input.\n",
    "- Updated `strtrans` with boolean `topines` option.\n",
    "- Add inverted pinetree support to `compile`.\n",
    "- Changed default `vscale` in `compile` to 1.2.\n",
    "\n",
    "###V2\n",
    "- Added pine trees to `chartrans`.\n",
    "- Moved `findmidpoints` from `Escher Tools` to `Img Tools`.\n",
    "- Moved `resdown` and `ressame` from `ResDown` to `Escher Tools`.\n",
    "\n",
    "###V1\n",
    "- Updated `spaces` and `letters` to save characters as \"filename_n\"and \"filename-n\" respectively.\n",
    "- Updated `findmidpoints` to include the spaces at begining and end of word.\n",
    "- Updated `strtrans` and `chartrans` to act on files, not strings.\n",
    "\n",
    "###V0\n",
    "- Initial release\n",
    "- `chartrans`, `strtrans`, and `compile` copied from `Escher Transformations V2`."
   ]
  },
  {
   "cell_type": "code",
   "execution_count": 11,
   "metadata": {
    "collapsed": false
   },
   "outputs": [
    {
     "data": {
      "text/plain": [
       "spacepine (generic function with 2 methods)"
      ]
     },
     "execution_count": 11,
     "metadata": {},
     "output_type": "execute_result"
    }
   ],
   "source": [
    "function spacepine(xcenter, ycenter, height, width, res, topine::Bool, n=10)\n",
    "    #returns transform to/from pine at center with given 'width' and 'height' of resoultion\n",
    "    \n",
    "    #space\n",
    "    spacex = fill(xcenter, res)\n",
    "    spacey = fill(ycenter, res)\n",
    "    \n",
    "    #tree\n",
    "    pinex, piney = pinetree(height, width, res, !topine) #plant\n",
    "    pinex .+= (xcenter - width/2) #transplant x\n",
    "    \n",
    "    if topine == false #flip pine over\n",
    "        piney *= -1\n",
    "        piney .+= (ycenter + height/2)\n",
    "    else\n",
    "        piney .+= (ycenter - height/2) #transplant y\n",
    "    end\n",
    "        \n",
    "    #transform\n",
    "    x = vlinspace(pinex, spacex, n)\n",
    "    y = vlinspace(piney, spacey, n)\n",
    "    \n",
    "    if topine == true #flip order if necessary\n",
    "        x = fliplr(x)\n",
    "        y = fliplr(y)\n",
    "    end\n",
    "    \n",
    "    return x, y\n",
    "end"
   ]
  },
  {
   "cell_type": "code",
   "execution_count": 2,
   "metadata": {
    "collapsed": false
   },
   "outputs": [
    {
     "data": {
      "text/plain": [
       "locatepine (generic function with 2 methods)"
      ]
     },
     "execution_count": 2,
     "metadata": {},
     "output_type": "execute_result"
    }
   ],
   "source": [
    "function locatepine(file::String, spaceloc, path=\"\\\\\")\n",
    "    #Returns dimensions and center between the letter at 'spaceloc' and the next letter\n",
    "    \n",
    "    #load images\n",
    "    loc = pwd() * path * file[1:end-4] * \"-\" * string(spaceloc) * \".bmp\" #location of file\n",
    "    edge1 = edgedetect(imread(loc))\n",
    "    \n",
    "    loc = pwd() * path * file[1:end-4] * \"-\" * string(spaceloc + 1) * \".bmp\" #location of file \n",
    "    edge2 = edgedetect(imread(loc))\n",
    "    \n",
    "    #find boundaries\n",
    "    left = maximum(edge1[1])\n",
    "    right = minimum(edge2[1])\n",
    "    top = maximum(edge1[2])\n",
    "    bottom = minimum(edge1[2])\n",
    "    \n",
    "    #calculate\n",
    "    width = (left - minimum(edge1[1])) * 4 / 3\n",
    "    height = (top - bottom) * 1.2\n",
    "    xcenter = (left + right) / 2\n",
    "    ycenter = (top + bottom) / 2 - 0.1 * (top - bottom)\n",
    "       \n",
    "    return xcenter, ycenter, height, width\n",
    "end"
   ]
  },
  {
   "cell_type": "code",
   "execution_count": 3,
   "metadata": {
    "collapsed": false
   },
   "outputs": [
    {
     "data": {
      "text/plain": [
       "looppine (generic function with 3 methods)"
      ]
     },
     "execution_count": 3,
     "metadata": {},
     "output_type": "execute_result"
    }
   ],
   "source": [
    "function looppine(file::String, spaces, res, topine, path=\"\\\\\", n=10)\n",
    "    #returns x and y coordinates of transformations to/from ('topine') from/to a space located after 'spaces'.\n",
    "    \n",
    "    x = zeros(Float64, res * length(spaces),n)\n",
    "    y = zeros(Float64, res * length(spaces),n)\n",
    "    \n",
    "    for i = 1:length(spaces) #loop through each space\n",
    "        xcenter, ycenter, height, width = locatepine(file, spaces[i], path)\n",
    "        x[(i-1)*res+1:i*res,:], y[(i-1)*res+1:i*res,:] = spacepine(xcenter, ycenter, height, width, res, topine, n)\n",
    "    end\n",
    "    return x, y\n",
    "end"
   ]
  },
  {
   "cell_type": "code",
   "execution_count": 17,
   "metadata": {
    "collapsed": false
   },
   "outputs": [
    {
     "data": {
      "text/plain": [
       "strtrans (generic function with 4 methods)"
      ]
     },
     "execution_count": 17,
     "metadata": {},
     "output_type": "execute_result"
    }
   ],
   "source": [
    "function strtrans(file::String, topine::Bool, templateletter = 1, path=\"\\\\\", n=10)\n",
    "    #morphs 'file1' (located at 'path') to or from (according to 'topines') in 'n' steps \n",
    "    #'topine' specifies direction of tree. 'true' give an upside down tree\n",
    "    #'templateletter' specifies which letter to look at to determine master letter size\n",
    "    \n",
    "    i=1 #loop counter\n",
    "    transx = Array(Float64, 0, n) #x-locations of data points\n",
    "    transy = Array(Float64, 0, n)\n",
    "    #img = imread(pwd() * path * file) #initialize image\n",
    "    \n",
    "    #find letter size\n",
    "    loc = pwd() * path * file[1:end-4] * \"-\" * string(templateletter) * \".bmp\" #location of file\n",
    "    img = imread(loc)\n",
    "    edge = edgedetect(img)\n",
    "    edge = hcat(edge[1],edge[2])\n",
    "    letterwidth = (maximum(edge[:,1]) - minimum(edge[:,1]))\n",
    "    letterheight = (maximum(edge[:,2]) - minimum(edge[:,2]))\n",
    "\n",
    "    #loop through letters\n",
    "    while true #loop until no more files exist\n",
    "        \n",
    "        loc = pwd() * path * file[1:end-4] * \"-\" * string(i) * \".bmp\" #location of file\n",
    "\n",
    "        #load image\n",
    "        try #loop until files are gone\n",
    "            img = imread(loc)\n",
    "        catch e\n",
    "            return transx, transy\n",
    "        end\n",
    "        \n",
    "        edge = edgedetect(img)\n",
    "        edge = hcat(edge[1],edge[2])\n",
    "        \n",
    "        #plant pine tree\n",
    "        pinex, piney = pinetree(1.2 * letterheight, 5/4 * letterwidth, size(edge)[1], !topine) #grow a tree\n",
    "        #piney .+=  (minimum(edge[:,2]) - 0.1 * letterheight) #x-transplant tree in center of letter\n",
    "        \n",
    "        #if topine == true #transforming to pine\n",
    "            #piney .+= 0.1 * letterheight #y-transplant to center\n",
    "        #else #transforming from pine\n",
    "        piney *= -1 #flip tree\n",
    "        piney .+= (1.2 * i * letterheight + 0.077/2 * letterheight)\n",
    "        #piney .+= 1.3 * letterheight * (i-1)#y-transplant to center\n",
    "            \n",
    "        #end\n",
    "\n",
    "        #transform and concatenate\n",
    "        if topine == true #transforming to pine\n",
    "            x = vlinspace(edge[:,1], pinex, n)\n",
    "            y = vlinspace(edge[:,2], piney, n)\n",
    "        else #transforming from pine\n",
    "            x = vlinspace(pinex, edge[:,1], n)\n",
    "            y = vlinspace(piney, edge[:,2], n)\n",
    "        end\n",
    "\n",
    "        transx = vcat(transx, x)\n",
    "        transy = vcat(transy, y)   \n",
    "        \n",
    "        i += 1\n",
    "        \n",
    "        if i > 1e3\n",
    "            error(\"stuck in loop\")\n",
    "        end\n",
    "        \n",
    "        \n",
    "    end      \n",
    "end"
   ]
  },
  {
   "cell_type": "code",
   "execution_count": 14,
   "metadata": {
    "collapsed": false
   },
   "outputs": [
    {
     "data": {
      "text/plain": [
       "compile (generic function with 4 methods)"
      ]
     },
     "execution_count": 14,
     "metadata": {},
     "output_type": "execute_result"
    }
   ],
   "source": [
    "function compile(x, y, topine=true, vscale=1.25, step = -1.)\n",
    "    #stacks morphed frames on top of each other (with vertical scale 'vscale')\n",
    "    \n",
    "    allx = zeros(Float64, size(x)[1]*size(x)[2])\n",
    "    ally = zeros(Float64, size(x)[1]*size(x)[2])\n",
    "    points = size(x)[1]\n",
    "    if step < 0\n",
    "    #if topine == true #top half of transform: look at top\n",
    "    step = (maximum(x)-minimum(x))\n",
    "    #else #bottom half of transform: look at bottom\n",
    "    #    step = (maximum(y[:,end])-minimum(y[:,end]))*vscale\n",
    "    #end\n",
    "    end\n",
    "    for n = 1:size(x)[2]\n",
    "        allx[(n-1)*points+1:n*points] = x[:,n]+step*(n-1)\n",
    "        ally[(n-1)*points+1:n*points] = y[:,n]\n",
    "    end\n",
    "    \n",
    "    return allx, ally\n",
    "end"
   ]
  },
  {
   "cell_type": "code",
   "execution_count": 8,
   "metadata": {
    "collapsed": false,
    "scrolled": true
   },
   "outputs": [
    {
     "data": {
      "text/plain": [
       "letters (generic function with 2 methods)"
      ]
     },
     "execution_count": 8,
     "metadata": {},
     "output_type": "execute_result"
    }
   ],
   "source": [
    "function letters(file, spacemidpoints, path=\"\\\\\")\n",
    "    #saves individual files (at 'path') for each letter in 'file' with everything else blacked out\n",
    "    \n",
    "    img = imread(pwd()*path*file) #open image\n",
    "\n",
    "    for i = 2:length(spacemidpoints)\n",
    "        letter = zeros(img) #intialize all black\n",
    "\n",
    "        letter[:,spacemidpoints[i-1]:spacemidpoints[i]] = invert(img[:,spacemidpoints[i-1]:spacemidpoints[i]]) #fill in white letter\n",
    "        letter[1,:] = zeros(letter[1,:]) #black left column\n",
    "        letter[end,:] = zeros(letter[end,:]) #black right column\n",
    "        imwrite(letter', pwd()*path*file[1:end-4]*\"-\"*string(i-1)*\".bmp\") #save file with letter name\n",
    "    end\n",
    "end"
   ]
  },
  {
   "cell_type": "code",
   "execution_count": 9,
   "metadata": {
    "collapsed": false
   },
   "outputs": [
    {
     "data": {
      "text/plain": [
       "spaces (generic function with 2 methods)"
      ]
     },
     "execution_count": 9,
     "metadata": {},
     "output_type": "execute_result"
    }
   ],
   "source": [
    "function spaces(file, lettermidpoints, path=\"\\\\\")\n",
    "    #saves individula files (at 'path') for each space in 'file' with everything else blacked out\n",
    "    \n",
    "    img = imread(pwd()*path*file) #open image\n",
    "\n",
    "    for i = 1:length(lettermidpoints)-1\n",
    "        space = zeros(img) #intialize all black\n",
    "\n",
    "        space[lettermidpoints[i]:lettermidpoints[i+1],:] = img[lettermidpoints[i]:lettermidpoints[i+1],:] #fill in \n",
    "        imwrite(space', pwd()*path*file[1:end-4]*\"_\"*string(i)*\".bmp\") #save file with letter name\n",
    "    end\n",
    "end\n"
   ]
  },
  {
   "cell_type": "code",
   "execution_count": 10,
   "metadata": {
    "collapsed": false
   },
   "outputs": [
    {
     "data": {
      "text/plain": [
       "resdown (generic function with 1 method)"
      ]
     },
     "execution_count": 10,
     "metadata": {},
     "output_type": "execute_result"
    }
   ],
   "source": [
    "function resdown(x, newsize)\n",
    "    #deletes evenly spaced points from x to reduce it to 'newsize' in dimension 1\n",
    "    oldsize = size(x)[1]\n",
    "    Δ = oldsize - newsize #change in size\n",
    "    step = oldsize/Δ #step size between deleted points. will fail when this is less than two?\n",
    "    y = zeros(newsize, 2) #output vector\n",
    "    \n",
    "    for n=0:Δ-1 #pull segment of x to place in y\n",
    "        y[ifloor(step*n+1-n):ifloor(step*(n+1)-n-1),:] = x[ifloor(step*n+1):ifloor(step*(n+1)-1),:]\n",
    "    end\n",
    "    \n",
    "    return y\n",
    "end"
   ]
  },
  {
   "cell_type": "code",
   "execution_count": 11,
   "metadata": {
    "collapsed": false
   },
   "outputs": [
    {
     "data": {
      "text/plain": [
       "ressame (generic function with 1 method)"
      ]
     },
     "execution_count": 11,
     "metadata": {},
     "output_type": "execute_result"
    }
   ],
   "source": [
    "function ressame(x,y)\n",
    "    #deletes evenly spaced points from the shorter of 'x' and 'y' to make them the same length\n",
    "    xsize = size(x)[1]\n",
    "    ysize = size(y)[1]\n",
    "    if xsize > ysize\n",
    "        x = resdown(x, ysize)\n",
    "    elseif ysize > xsize\n",
    "        y = resdown(y, xsize)\n",
    "    end\n",
    "    return x, y\n",
    "end\n"
   ]
  }
 ],
 "metadata": {
  "kernelspec": {
   "display_name": "Julia 0.3.7",
   "language": "julia",
   "name": "julia 0.3"
  },
  "language_info": {
   "name": "julia",
   "version": "0.3.7"
  }
 },
 "nbformat": 4,
 "nbformat_minor": 0
}
