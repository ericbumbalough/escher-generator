{
 "cells": [
  {
   "cell_type": "markdown",
   "metadata": {},
   "source": [
    "#Escher Transformations\n",
    "Morphs one image (word) into another. [Example.](http://www.mcescher.com/gallery/transformation-prints/sky-and-water-i/)\n",
    "##Version History\n",
    "###V6\n",
    "- Converted to vertical text.\n",
    "\n",
    "###V5\n",
    "- Added pine tree tesselation in center.\n",
    "\n",
    "###V4\n",
    "- Added pine trees between words\n",
    "\n",
    "###V3\n",
    "- Functions moved to 'EscherTools'"
   ]
  },
  {
   "cell_type": "markdown",
   "metadata": {},
   "source": [
    "##Step 0\n",
    "Create images of each of the words you want to transform. Words must have lengths that differ by less than one letter. On Windows, the Snipping Tool works well. For higher resolution, a large font .pdf can be converted to an image [here.](http://smallpdf.com/pdf-to-jpg)"
   ]
  },
  {
   "cell_type": "markdown",
   "metadata": {},
   "source": [
    "##Step 1\n",
    "Update the file names and run the cells below."
   ]
  },
  {
   "cell_type": "code",
   "execution_count": 1,
   "metadata": {
    "collapsed": false
   },
   "outputs": [],
   "source": [
    "file1 = \"vert ren.png\"\n",
    "file2 = \"vert Esch.png\"\n",
    "file3 = \"vert ok.png\"\n",
    "length2 = 12 #length of string in file2\n",
    "\n",
    "newfile1 = file1[1:end-3]*\"bmp\"\n",
    "newfile2 = file2[1:end-3]*\"bmp\"\n",
    "newfile3 = file3[1:end-3]*\"bmp\"\n",
    "\n",
    "include(\"Img Tools V2.txt\")\n",
    "include(\"Escher Tools V6.txt\")\n",
    "include(\"Pines V3.txt\")\n",
    "include(\"VLinspace.jl\");\n",
    "using Winston"
   ]
  },
  {
   "cell_type": "code",
   "execution_count": 60,
   "metadata": {
    "collapsed": false,
    "scrolled": true
   },
   "outputs": [],
   "source": [
    "#prepimg(file1)\n",
    "#prepimg(file2)\n",
    "prepimg(file3);"
   ]
  },
  {
   "cell_type": "markdown",
   "metadata": {},
   "source": [
    "##Step 2\n",
    "Run the cells below to open your file in Paint (it may open in the background) (Sorry non-Windows people, you have to do it the hard way.) Edit your file (now saved as .bmp) to slice open (with a white line) all characters with holes (A, 8, etc) to make the black part of the letters simply connected."
   ]
  },
  {
   "cell_type": "code",
   "execution_count": 11,
   "metadata": {
    "collapsed": false
   },
   "outputs": [],
   "source": [
    "run(`mspaint $newfile1`)"
   ]
  },
  {
   "cell_type": "code",
   "execution_count": 41,
   "metadata": {
    "collapsed": false
   },
   "outputs": [],
   "source": [
    "run(`mspaint $newfile2`)"
   ]
  },
  {
   "cell_type": "code",
   "execution_count": 61,
   "metadata": {
    "collapsed": true
   },
   "outputs": [],
   "source": [
    "run(`mspaint $newfile3`)"
   ]
  },
  {
   "cell_type": "markdown",
   "metadata": {},
   "source": [
    "##Step 3\n",
    "Run the cell below automatically save images for each letter."
   ]
  },
  {
   "cell_type": "code",
   "execution_count": 69,
   "metadata": {
    "collapsed": false
   },
   "outputs": [],
   "source": [
    "#spacemidpoints1, lettermidpoints1 = findmidpoints(imread(newfile1),1)\n",
    "#spacemidpoints2, lettermidpoints2 = findmidpoints(imread(newfile2),1)\n",
    "spacemidpoints3, lettermidpoints3 = findmidpoints(imread(newfile3),1)\n",
    "#letters(newfile1, spacemidpoints1)\n",
    "#letters(newfile2, spacemidpoints2)\n",
    "letters(newfile3, spacemidpoints3)"
   ]
  },
  {
   "cell_type": "markdown",
   "metadata": {},
   "source": [
    "##Step 4\n",
    "Run the cells below to create the transformation and plot it."
   ]
  },
  {
   "cell_type": "code",
   "execution_count": 2,
   "metadata": {
    "collapsed": false,
    "scrolled": true
   },
   "outputs": [],
   "source": [
    "trans1x, trans1y = strtrans(newfile1, true, 2, \"\\\\\", 6) #word transformations\n",
    "pinewidth = (maximum(trans1x) - minimum(trans1x)) #size space pine\n",
    "pineheight = (maximum(trans1y) - minimum(trans1y)) / 11\n",
    "pine1x, pine1y = spacepine(pinewidth/2,51.5/110*pineheight,pineheight,pinewidth,1500, true, 6) #plant pine\n",
    "trans1x = vcat(trans1x, pine1x, pine1x) #add space pines\n",
    "trans1y = vcat(trans1y, -pine1y, -pine1y + 12 * pineheight)\n",
    "trans1x = hcat(trans1x, trans1x[:,end]) #add twin pine\n",
    "trans1y = hcat(trans1y, trans1y[:,end])\n",
    "x1,y1=compile(trans1x,trans1y);"
   ]
  },
  {
   "cell_type": "code",
   "execution_count": 3,
   "metadata": {
    "collapsed": false
   },
   "outputs": [],
   "source": [
    "trans2x, trans2y = strtrans(newfile2, false, 1, \"\\\\\", 6)\n",
    "pine2x, pine2y = spacepine(0,0,pineheight,pinewidth, 1500, false, 6)\n",
    "pine2x .+= pinewidth/2\n",
    "pine2y .-= (16/37 + 17/509) * pineheight\n",
    "trans2x = [trans2x; pine2x; pine2x; pine2x]\n",
    "trans2y = [trans2y; pine2y; pine2y + 7*pineheight; pine2y+13*pineheight]\n",
    "trans2x = [trans2x fliplr(trans2x[:,1:end-1])]\n",
    "trans2y = [trans2y fliplr(trans2y[:,1:end-1])]\n",
    "trans2x .+= maximum(x1) - pinewidth / 2\n",
    "trans2y .-= 8/37 * pineheight\n",
    "x2,y2=compile(trans2x,trans2y,false);"
   ]
  },
  {
   "cell_type": "code",
   "execution_count": 4,
   "metadata": {
    "collapsed": false
   },
   "outputs": [],
   "source": [
    "trans3x, trans3y = strtrans(newfile3, true, 3, \"\\\\\", 6)\n",
    "pine3x = pine1x\n",
    "pine3y = pine1y\n",
    "trans3x = vcat(trans3x, pine3x, pine3x, pine3x, pine3x, pine3x, pine3x) #add space pines\n",
    "trans3y = vcat(trans3y, -pine3y, -pine3y-1*pineheight,-pine3y-2*pineheight,-pine3y+8*pineheight,-pine3y+9*pineheight,-pine3y+10*pineheight)\n",
    "trans3x .+= maximum(x2) - pinewidth / 2\n",
    "trans3y .+= 2 * pineheight\n",
    "trans3x = [trans3x trans3x[:,end]] #add twin pine\n",
    "trans3y = [trans3y trans3y[:,end]] #add twin pine\n",
    "x3,y3=compile(fliplr(trans3x), fliplr(trans3y), false, 1, pinewidth);"
   ]
  },
  {
   "cell_type": "code",
   "execution_count": 5,
   "metadata": {
    "collapsed": false
   },
   "outputs": [],
   "source": [
    "p=plot(x2,-y2,\".\",color=\"#FBDB24\",xrange=(minimum(x1),maximum(x3)),yrange=(-maximum(y1),-minimum(y1)))\n",
    "oplot(x1,-y1,\".\",color=\"#2E5A29\")\n",
    "oplot(x3,-y3,\".\",color=\"#2E5A29\")\n",
    "#oplot(x4, -y4, \".\",color=\"black\")\n",
    "setattr(p.x1, draw_nothing = true)\n",
    "setattr(p.x2, draw_nothing = true)\n",
    "setattr(p.y1, draw_nothing = true)\n",
    "setattr(p.y2, draw_nothing = true)\n",
    "savefig(p, \"plot.png\", width =9600, height = 7300)"
   ]
  },
  {
   "cell_type": "code",
   "execution_count": 73,
   "metadata": {
    "collapsed": false
   },
   "outputs": [
    {
     "data": {
      "text/plain": [
       "3326.6997125451935"
      ]
     },
     "execution_count": 73,
     "metadata": {},
     "output_type": "execute_result"
    }
   ],
   "source": [
    "-minimum(y2)+maximum(y1)/2+minimum(y1)"
   ]
  },
  {
   "cell_type": "code",
   "execution_count": 103,
   "metadata": {
    "collapsed": false
   },
   "outputs": [],
   "source": [
    "slant = 0.2\n",
    "x1shift = x1 .- 56\n",
    "x2shift = x2 .- 56\n",
    "x3shift = x3 .- 56;\n",
    "y1shift = y1 .-3326.6997125451935\n",
    "y2shift = y2 .-3326.6997125451935\n",
    "y3shift = y3 .-3326.6997125451935;\n",
    "x1shift = x1shift .* (1 .+ slant * (x1shift/(maximum(x3)-56)))\n",
    "x2shift = x2shift .* (1 .+ slant * (x2shift/(maximum(x3)-56)))\n",
    "x3shift = x3shift .* (1 .+ slant * (x3shift/(maximum(x3)-56)))\n",
    "y1shift = y1shift .* (1 .+ slant * (x1shift/(maximum(x3)-56)))\n",
    "y2shift = y2shift .* (1 .+ slant * (x2shift/(maximum(x3)-56)))\n",
    "y3shift = y3shift .* (1 .+ slant * (x3shift/(maximum(x3)-56)));"
   ]
  },
  {
   "cell_type": "code",
   "execution_count": 104,
   "metadata": {
    "collapsed": false
   },
   "outputs": [],
   "source": [
    "s=plot(x2shift,-y2shift,\".\",color=\"#FBDB24\",xrange=(minimum(x1shift),maximum(x3shift)),yrange=(-maximum(y2shift),-minimum(y2shift)))\n",
    "oplot(x1shift,-y1shift,\".\",color=\"#2E5A29\")\n",
    "oplot(x3shift,-y3shift,\".\",color=\"#2E5A29\")\n",
    "setattr(s.x1, draw_nothing = true)\n",
    "setattr(s.x2, draw_nothing = true)\n",
    "setattr(s.y1, draw_nothing = true)\n",
    "setattr(s.y2, draw_nothing = true)\n",
    "savefig(s, \"plot shift.png\", width =9600, height = 7300)"
   ]
  },
  {
   "cell_type": "code",
   "execution_count": 105,
   "metadata": {
    "collapsed": false
   },
   "outputs": [],
   "source": [
    "img = imread(\"plot shift.png\")\n",
    "img = img[iround(0.05 * 9600) : iround(0.95 * 9600), iround(0.05 * 7300) : iround(0.95 * 7300)]\n",
    "#img = gray2bw(img)\n",
    "imwrite(img', \"plot2 shift\" * string(slant)*\".png\")"
   ]
  },
  {
   "cell_type": "markdown",
   "metadata": {},
   "source": [
    "## Step 5\n",
    "Run the cell below to open the picture in MS Paint. Fill the necessary areas with black."
   ]
  },
  {
   "cell_type": "code",
   "execution_count": 161,
   "metadata": {
    "collapsed": true
   },
   "outputs": [],
   "source": [
    "run(`mspaint $\"plot2.png\"`)"
   ]
  },
  {
   "cell_type": "code",
   "execution_count": null,
   "metadata": {
    "collapsed": true
   },
   "outputs": [],
   "source": []
  }
 ],
 "metadata": {
  "kernelspec": {
   "display_name": "Julia 0.3.7",
   "language": "julia",
   "name": "julia 0.3"
  },
  "language_info": {
   "name": "julia",
   "version": "0.3.7"
  }
 },
 "nbformat": 4,
 "nbformat_minor": 0
}
