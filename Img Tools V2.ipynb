{
 "cells": [
  {
   "cell_type": "markdown",
   "metadata": {},
   "source": [
    "#ImgTools\n",
    "Set of tools for the image processing of Escher transitions.\n",
    "##Version History\n",
    "###V2\n",
    "* Changed to vertical letters.\n",
    "\n",
    "###V1\n",
    "* Moved 'findmidpoints' from 'Escher Tools' to 'Img Tools'.\n",
    "\n",
    "###V0\n",
    "* Initial release.\n",
    "* Mostly copied from 'Trace.jl' with some functions given more descriptive names.\n",
    "* Added 'padwhite' and 'invert'."
   ]
  },
  {
   "cell_type": "code",
   "execution_count": 1,
   "metadata": {
    "collapsed": true
   },
   "outputs": [],
   "source": [
    "using Images"
   ]
  },
  {
   "cell_type": "code",
   "execution_count": 2,
   "metadata": {
    "collapsed": false
   },
   "outputs": [
    {
     "data": {
      "text/plain": [
       "gray2bw (generic function with 2 methods)"
      ]
     },
     "execution_count": 2,
     "metadata": {},
     "output_type": "execute_result"
    }
   ],
   "source": [
    "function gray2bw(img, threshold=0.5)\n",
    "    #converts grayscale image to BW\n",
    "    \n",
    "    whitepixels = img .> threshold #find white pixels\n",
    "    bw = zeros(img) #intialize to black\n",
    "    bw[whitepixels] = one(img[1,1]) #write white pixels\n",
    "    \n",
    "    return bw\n",
    "end"
   ]
  },
  {
   "cell_type": "code",
   "execution_count": 3,
   "metadata": {
    "collapsed": false
   },
   "outputs": [
    {
     "data": {
      "text/plain": [
       "stripwhite (generic function with 1 method)"
      ]
     },
     "execution_count": 3,
     "metadata": {},
     "output_type": "execute_result"
    }
   ],
   "source": [
    "function stripwhite(x)\n",
    "    #removes any first or last rows or columns that are entirely less than 0.5\n",
    "\n",
    "    while sum(x[:,1] .< .5) == 0 \n",
    "        x = x[:,2:end]\n",
    "    end\n",
    "    \n",
    "    while sum(x[:,end] .< .5) == 0\n",
    "        x = x[:,1:end-1]\n",
    "    end\n",
    "    \n",
    "    while sum(x[1,:] .< .5) == 0\n",
    "        x = x[2:end,:]\n",
    "    end\n",
    "    \n",
    "    while sum(x[end,:] .< .5) == 0\n",
    "        x = x[1:end-1,:]\n",
    "    end\n",
    "    \n",
    "    return x\n",
    "    \n",
    "end"
   ]
  },
  {
   "cell_type": "code",
   "execution_count": 4,
   "metadata": {
    "collapsed": false
   },
   "outputs": [
    {
     "data": {
      "text/plain": [
       "padblack (generic function with 1 method)"
      ]
     },
     "execution_count": 4,
     "metadata": {},
     "output_type": "execute_result"
    }
   ],
   "source": [
    "function padblack(x)\n",
    "    #adds a frame of zeros around x\n",
    "    \n",
    "    black = zero(x[1,1])\n",
    "    \n",
    "    x = cat(2,fill(black,size(x)[1]),x,fill(black,size(x)[1]))\n",
    "    return cat(1,fill(black,size(x)[2])',x,fill(black,size(x)[2])')\n",
    "    \n",
    "end"
   ]
  },
  {
   "cell_type": "code",
   "execution_count": 5,
   "metadata": {
    "collapsed": false
   },
   "outputs": [
    {
     "data": {
      "text/plain": [
       "padwhite (generic function with 1 method)"
      ]
     },
     "execution_count": 5,
     "metadata": {},
     "output_type": "execute_result"
    }
   ],
   "source": [
    "function padwhite(x, thickness)\n",
    "    #adds a frame of 'thickness' of ones around 'x'\n",
    "    \n",
    "    white = one(x[1,1])\n",
    "    \n",
    "    x = cat(2,fill(white,(size(x)[1], thickness)),x,fill(white,(size(x)[1]),thickness))\n",
    "    return cat(1,fill(white,(thickness, size(x)[2])),x,fill(white,(thickness, size(x)[2])))\n",
    "    \n",
    "end"
   ]
  },
  {
   "cell_type": "code",
   "execution_count": 32,
   "metadata": {
    "collapsed": false
   },
   "outputs": [
    {
     "data": {
      "text/plain": [
       "prepimg (generic function with 2 methods)"
      ]
     },
     "execution_count": 32,
     "metadata": {},
     "output_type": "execute_result"
    }
   ],
   "source": [
    "function prepimg(file, whiteratio = .2)\n",
    "    #preps image located at 'file'\n",
    "    \n",
    "    img = imread(file) #load\n",
    "    img = gray2bw(img) #make black and white\n",
    "    img = stripwhite(img) #trim excess white space\n",
    "    thickness = iround(whiteratio * size(img)[1]) #how much border to add\n",
    "    img = padwhite(img, thickness) #add white border\n",
    "    img = padblack(img) #add black border\n",
    "    \n",
    "    imwrite(img',file[1:end-4]*\".bmp\") #save\n",
    "    \n",
    "    return img\n",
    "    \n",
    "end"
   ]
  },
  {
   "cell_type": "code",
   "execution_count": 8,
   "metadata": {
    "collapsed": false
   },
   "outputs": [
    {
     "data": {
      "text/plain": [
       "edgedetect (generic function with 1 method)"
      ]
     },
     "execution_count": 8,
     "metadata": {},
     "output_type": "execute_result"
    }
   ],
   "source": [
    "function edgedetect(img)\n",
    "    #traces edges of monochrome bmp at 'filename' from first white pixel\n",
    "    \n",
    "    white = one(img[1,1])\n",
    "    black = zero(img[1,1])\n",
    "    loop = 0 #loop counter\n",
    "    loc = [(-1,-1)  (0,-1)  (1,-1)  (1,0)  (1,1)  (0,1)  (-1,1)  (-1,0)] #neighbors relative to center\n",
    "    \n",
    "    #find first white pixel\n",
    "    start = findfirst(img, white)\n",
    "    start = ind2sub(size(img),start) #convert to location\n",
    "    \n",
    "    x = [start[1]]\n",
    "    y = [start[2]]\n",
    "    path = 4\n",
    "    \n",
    "    while true #loop escape is as return at bottom\n",
    "        #trace edge\n",
    "        \n",
    "        #\"unroll\" neighboring pixels\n",
    "        neighbors = [img[x[end]-1,y[end]-1],img[x[end],y[end]-1]]\n",
    "        push!(neighbors, img[x[end]+1,y[end]-1])\n",
    "        push!(neighbors, img[x[end]+1,y[end]])\n",
    "        push!(neighbors, img[x[end]+1,y[end]+1])\n",
    "        push!(neighbors, img[x[end],y[end]+1])\n",
    "        push!(neighbors, img[x[end]-1,y[end]+1])\n",
    "        push!(neighbors, img[x[end]-1,y[end]])   \n",
    "        \n",
    "        #find path\n",
    "        nextblack = findnext(neighbors, black, mod(path-5,8)+1) #gives preference to hard left turn\n",
    "        if nextblack == 0\n",
    "            nextblack = findfirst(neighbors, black)\n",
    "            if nextblack == 0\n",
    "                error(\"no black neighbors\")\n",
    "            end\n",
    "        end\n",
    "\n",
    "        path = findnext(neighbors, white, mod(nextblack,8)+1) #find path\n",
    "        if path == 0 \n",
    "            path = findfirst(neighbors, white)\n",
    "            if path == 0\n",
    "                error(\"no white neighbors\")\n",
    "            end\n",
    "        end\n",
    "        \n",
    "        push!(x, x[end]+loc[path][1]) #update path           \n",
    "        push!(y, y[end]+loc[path][2])\n",
    "        \n",
    "        if (x[end],y[end]) == (x[1],y[1]) #returned to begining\n",
    "            return x,y\n",
    "        end\n",
    "        \n",
    "        loop += 1 #increment loop counter\n",
    "        if loop > 1e6 #escape after number of iterations for testing/safety\n",
    "            if size(hcat(x,y)) == size(unique(hcat(x,y),1))\n",
    "                loop = 0\n",
    "            else\n",
    "                warn(\"trapped in loop?\")\n",
    "                return x,y\n",
    "            end\n",
    "        end\n",
    "    end\n",
    "end"
   ]
  },
  {
   "cell_type": "code",
   "execution_count": 9,
   "metadata": {
    "collapsed": false,
    "scrolled": true
   },
   "outputs": [
    {
     "data": {
      "text/plain": [
       "invert (generic function with 1 method)"
      ]
     },
     "execution_count": 9,
     "metadata": {},
     "output_type": "execute_result"
    }
   ],
   "source": [
    "function invert(img)\n",
    "    #converts black to white and white to black\n",
    "    \n",
    "    newblacks = (img .== one(img[1,1])) #find white pixels\n",
    "    inverse = ones(img) #intialize to white\n",
    "    inverse[newblacks] = zero(img[1,1])\n",
    "    \n",
    "    return inverse\n",
    "end    "
   ]
  },
  {
   "cell_type": "code",
   "execution_count": 10,
   "metadata": {
    "collapsed": false
   },
   "outputs": [
    {
     "data": {
      "text/plain": [
       "findmidpoints (generic function with 2 methods)"
      ]
     },
     "execution_count": 10,
     "metadata": {},
     "output_type": "execute_result"
    }
   ],
   "source": [
    "function findmidpoints(x, dim = 2)\n",
    "    #Returns the center point (in terms of 'dim') of each chunk of entirely white (or black) rows\n",
    "    \n",
    "    blackpixels = x .< 0.5 #find black pixels\n",
    "    whiterow = sum(blackpixels, dim) .<= 2 #rows that are all white (except for border)\n",
    "    \n",
    "    whitemidpoints = Int[] #midpoints of spaces\n",
    "    blackmidpoints = Int[2] #midpoints of letters\n",
    "    ind = 2 #start inside border\n",
    "    ind2 = 2 #irrelevant start point, will be thrown out\n",
    "    \n",
    "    while true #escape in return statement\n",
    "        ind = findnext(whiterow,false,ind) #find next non-white row (start of letter)\n",
    "        \n",
    "        push!(whitemidpoints, ifloor((ind-ind2)/2)+ind2) #add midpoint of space to list\n",
    "        \n",
    "        ind2 = findnext(whiterow,true,ind) #find next white row (end of letter)\n",
    "        \n",
    "        if ind2 != 0\n",
    "            push!(blackmidpoints, ifloor((ind2-ind)/2)+ind) #add midpoint of letter to list\n",
    "        else\n",
    "            whitemidpoints[1] = 2 #start of image\n",
    "            whitemidpoints[end] = size(x)[2]-1 #end of image\n",
    "            push!(blackmidpoints, size(x)[2]-1)\n",
    "            return whitemidpoints, blackmidpoints #throw away space at begining of word\n",
    "        end\n",
    "            \n",
    "        ind = ind2 #search from end of last letter\n",
    "        \n",
    "    end\n",
    "end"
   ]
  },
  {
   "cell_type": "code",
   "execution_count": null,
   "metadata": {
    "collapsed": true
   },
   "outputs": [],
   "source": []
  }
 ],
 "metadata": {
  "kernelspec": {
   "display_name": "Julia 0.3.7",
   "language": "julia",
   "name": "julia 0.3"
  },
  "language_info": {
   "name": "julia",
   "version": "0.3.7"
  }
 },
 "nbformat": 4,
 "nbformat_minor": 0
}
