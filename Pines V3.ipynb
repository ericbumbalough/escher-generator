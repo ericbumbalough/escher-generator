{
 "cells": [
  {
   "cell_type": "markdown",
   "metadata": {},
   "source": [
    "#Pines\n",
    "Tools for making pine trees and forests of pine trees.\n",
    "\n",
    "\"If twin pines are good, then triple pines are better.\"\n",
    "##Version History\n",
    "###V3\n",
    "- Modified for vertical letters.\n",
    "\n",
    "###V2\n",
    "- Added `top` to determine if tree is rightside up (true, default) or upside down (false).\n",
    "\n",
    "###V1\n",
    "- Removed duplicate points at verticies in `pines`.\n",
    "\n",
    "###V0\n",
    "- Initial release."
   ]
  },
  {
   "cell_type": "code",
   "execution_count": 1,
   "metadata": {
    "collapsed": false
   },
   "outputs": [
    {
     "data": {
      "text/plain": [
       "pinetree (generic function with 2 methods)"
      ]
     },
     "execution_count": 1,
     "metadata": {},
     "output_type": "execute_result"
    }
   ],
   "source": [
    "function pinetree(height, width, points::Int, top = true)\n",
    "    #returns x and y coordinates for a pine tree of 'height' and 'width' with a given number of 'points'.\n",
    "    #'top' = false if the tree will be upside down and changes the order of the output vector\n",
    "    \n",
    "    totallength = width + 16/37 * height + 2 * sqrt(841/1369 * height^2 + 1 / 4 * width^2) #total length of pine outline\n",
    "    \n",
    "    branchsidepoints = ifloor(points * sqrt(841/1369 * height^2 + 1 / 4 * width^2) / totallength) #points along each side of tree\n",
    "    branchbottompoints = ifloor(points * 16/39 * width / totallength) #points along underside of branches (bottom of triangle)\n",
    "    stumpsidepoints = ifloor(points * 8/37 * height / totallength) #points along side of stump\n",
    "    stumpbottompoints = ifloor(points * 7/39 * width / totallength) #points along bottom of stump\n",
    "    \n",
    "    #correct rounding errors\n",
    "    Δ = points - 2 * (branchsidepoints + branchbottompoints + stumpsidepoints) - stumpbottompoints #rounding error\n",
    "    \n",
    "    if Δ % 2 == 1 #if the rounding error is odd\n",
    "        stumpbottompoints += 1 #add one point to bottom of stump\n",
    "    end\n",
    "    \n",
    "    if Δ == 6 #add one to each even side\n",
    "        branchsidepoints += 1\n",
    "        branchbottompoints += 1\n",
    "        stumpsidepoints += 1\n",
    "    elseif Δ >= 4 #4 or 5, add to the branches\n",
    "        branchsidepoints += 1\n",
    "        branchbottompoints += 1\n",
    "    elseif Δ >= 2 #2 or 3, add to sides of branches\n",
    "        branchsidepoints += 1\n",
    "    end\n",
    "    \n",
    "    #generate points. [1:end-1] is to not grab duplicate points at verticies\n",
    "    if top==false\n",
    "        x = [linspace(width / 2, width, branchsidepoints + 1)[1:end-1], #right side branches\n",
    "            linspace(width, 23/39 * width, branchbottompoints + 1)[1:end-1], #right side bottom of branches\n",
    "            fill(23/39 * width, stumpsidepoints), #right side of stump\n",
    "            linspace(23/39 * width, 16/39 * width, stumpbottompoints + 1)[1:end-1], #bottom of stump\n",
    "            fill(16/39 * width, stumpsidepoints), #left side of stump\n",
    "            linspace(16/39 * width, 0, branchbottompoints + 1)[1:end-1], #left side bottom of branches\n",
    "            linspace(0, width/2, branchsidepoints + 1)[1:end-1]] #left side branches\n",
    "\n",
    "        y = [linspace(height, 8/37 * height, branchsidepoints + 1)[1:end-1], #right side branches\n",
    "            fill(8/37 * height, branchbottompoints), #right side bottom of branches\n",
    "            linspace(8/37 * height, 0, stumpsidepoints + 1)[1:end-1], #right side of stump\n",
    "            fill(0, stumpbottompoints), #bottom of stump\n",
    "            linspace(0, 8/37 * height, stumpsidepoints + 1)[1:end-1], #left side of stump\n",
    "            fill(8/37 * height, branchbottompoints), #left side bottom of branches\n",
    "            linspace(8/37 * height, height, branchsidepoints + 1)[1:end-1]] #left side branches\n",
    "    else #negative of tree\n",
    "        x = [linspace(3.5/39 * width, 35.5/39 *width, 2 * branchbottompoints +1)[1:end-1], #top\n",
    "            fill(35.5/39 *width, stumpsidepoints), #right vertical\n",
    "            linspace(35.5/39 *width, width, ifloor(stumpbottompoints/2) + 1)[1:end-1], #right horizontal\n",
    "            linspace(width, width/2, branchsidepoints +1)[1:end-1], #right angle\n",
    "            linspace(width/2, 0, branchsidepoints +1)[1:end-1], #left angle\n",
    "            linspace(0, 3.5/39 * width, iceil(stumpbottompoints/2) + 1)[1:end-1], #left horizontal\n",
    "            fill(3.5/39 * width, stumpsidepoints)] #left vertical\n",
    "        \n",
    "        y = [fill(height, 2 * branchbottompoints), #top\n",
    "            linspace(height, 29/37 * height, stumpsidepoints +1)[1:end-1], #right vertical\n",
    "            fill(29/37 * height, ifloor(stumpbottompoints/2)), #right horizontal\n",
    "            linspace(29/37 * height, 0, branchsidepoints + 1)[1:end-1], #right angle\n",
    "            linspace(0, 29/37 * height, branchsidepoints + 1)[1:end-1], #left angle\n",
    "            fill(29/37 * height, iceil(stumpbottompoints/2)), #left horizontal\n",
    "            linspace(29/37 * height, height, stumpsidepoints +1)[1:end-1]] #left vertical\n",
    "    end\n",
    "        \n",
    "    \n",
    "    #check for inverted tree\n",
    "    #if top == false #inverted tree\n",
    "        #move new starting point\n",
    "        #x = circshift(x, branchsidepoints + branchbottompoints + stumpsidepoints)\n",
    "        #y = circshift(y, branchsidepoints + branchbottompoints + stumpsidepoints)\n",
    "        \n",
    "        #change rotation direction\n",
    "        #x = flipud(x)\n",
    "        #y = flipud(y)\n",
    "    #end\n",
    "    return x, y\n",
    "end"
   ]
  },
  {
   "cell_type": "code",
   "execution_count": null,
   "metadata": {
    "collapsed": true
   },
   "outputs": [],
   "source": []
  }
 ],
 "metadata": {
  "kernelspec": {
   "display_name": "Julia 0.3.7",
   "language": "julia",
   "name": "julia 0.3"
  },
  "language_info": {
   "name": "julia",
   "version": "0.3.7"
  }
 },
 "nbformat": 4,
 "nbformat_minor": 0
}
